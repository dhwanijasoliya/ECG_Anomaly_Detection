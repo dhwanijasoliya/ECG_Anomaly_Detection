{
 "cells": [
  {
   "cell_type": "code",
   "execution_count": 1,
   "id": "2ecec91e-c58e-4ca7-b082-73e6e7b031c7",
   "metadata": {
    "scrolled": true
   },
   "outputs": [
    {
     "name": "stdout",
     "output_type": "stream",
     "text": [
      "^C\n",
      "Collecting wfdb\n",
      "  Downloading wfdb-4.2.0-py3-none-any.whl.metadata (3.7 kB)\n",
      "Requirement already satisfied: numpy in c:\\users\\dhvanibenjasoliya\\miniconda3\\lib\\site-packages (2.2.0)\n",
      "Requirement already satisfied: pandas in c:\\users\\dhvanibenjasoliya\\miniconda3\\lib\\site-packages (2.2.3)\n",
      "Requirement already satisfied: matplotlib in c:\\users\\dhvanibenjasoliya\\miniconda3\\lib\\site-packages (3.9.3)\n",
      "Collecting tensorflow\n",
      "  Downloading tensorflow-2.18.0-cp312-cp312-win_amd64.whl.metadata (3.3 kB)\n",
      "Collecting scikit-learn\n",
      "  Downloading scikit_learn-1.6.1-cp312-cp312-win_amd64.whl.metadata (15 kB)\n",
      "Requirement already satisfied: requests>=2.8.1 in c:\\users\\dhvanibenjasoliya\\miniconda3\\lib\\site-packages (from wfdb) (2.32.3)\n",
      "Requirement already satisfied: scipy>=1.13.0 in c:\\users\\dhvanibenjasoliya\\miniconda3\\lib\\site-packages (from wfdb) (1.14.1)\n",
      "Collecting soundfile>=0.10.0 (from wfdb)\n",
      "  Downloading soundfile-0.13.1-py2.py3-none-win_amd64.whl.metadata (16 kB)\n",
      "Requirement already satisfied: python-dateutil>=2.8.2 in c:\\users\\dhvanibenjasoliya\\miniconda3\\lib\\site-packages (from pandas) (2.9.0.post0)\n",
      "Requirement already satisfied: pytz>=2020.1 in c:\\users\\dhvanibenjasoliya\\miniconda3\\lib\\site-packages (from pandas) (2024.2)\n",
      "Requirement already satisfied: tzdata>=2022.7 in c:\\users\\dhvanibenjasoliya\\miniconda3\\lib\\site-packages (from pandas) (2024.2)\n",
      "Requirement already satisfied: contourpy>=1.0.1 in c:\\users\\dhvanibenjasoliya\\miniconda3\\lib\\site-packages (from matplotlib) (1.3.1)\n",
      "Requirement already satisfied: cycler>=0.10 in c:\\users\\dhvanibenjasoliya\\miniconda3\\lib\\site-packages (from matplotlib) (0.12.1)\n",
      "Requirement already satisfied: fonttools>=4.22.0 in c:\\users\\dhvanibenjasoliya\\miniconda3\\lib\\site-packages (from matplotlib) (4.55.3)\n",
      "Requirement already satisfied: kiwisolver>=1.3.1 in c:\\users\\dhvanibenjasoliya\\miniconda3\\lib\\site-packages (from matplotlib) (1.4.7)\n",
      "Requirement already satisfied: packaging>=20.0 in c:\\users\\dhvanibenjasoliya\\miniconda3\\lib\\site-packages (from matplotlib) (24.1)\n",
      "Requirement already satisfied: pillow>=8 in c:\\users\\dhvanibenjasoliya\\miniconda3\\lib\\site-packages (from matplotlib) (11.0.0)\n",
      "Requirement already satisfied: pyparsing>=2.3.1 in c:\\users\\dhvanibenjasoliya\\miniconda3\\lib\\site-packages (from matplotlib) (3.2.0)\n",
      "Collecting tensorflow-intel==2.18.0 (from tensorflow)\n",
      "  Downloading tensorflow_intel-2.18.0-cp312-cp312-win_amd64.whl.metadata (4.9 kB)\n",
      "Collecting absl-py>=1.0.0 (from tensorflow-intel==2.18.0->tensorflow)\n",
      "  Using cached absl_py-2.1.0-py3-none-any.whl.metadata (2.3 kB)\n",
      "Collecting astunparse>=1.6.0 (from tensorflow-intel==2.18.0->tensorflow)\n",
      "  Using cached astunparse-1.6.3-py2.py3-none-any.whl.metadata (4.4 kB)\n",
      "Collecting flatbuffers>=24.3.25 (from tensorflow-intel==2.18.0->tensorflow)\n",
      "  Downloading flatbuffers-25.1.24-py2.py3-none-any.whl.metadata (875 bytes)\n",
      "Collecting gast!=0.5.0,!=0.5.1,!=0.5.2,>=0.2.1 (from tensorflow-intel==2.18.0->tensorflow)\n",
      "  Using cached gast-0.6.0-py3-none-any.whl.metadata (1.3 kB)\n",
      "Collecting google-pasta>=0.1.1 (from tensorflow-intel==2.18.0->tensorflow)\n",
      "  Using cached google_pasta-0.2.0-py3-none-any.whl.metadata (814 bytes)\n",
      "Collecting libclang>=13.0.0 (from tensorflow-intel==2.18.0->tensorflow)\n",
      "  Using cached libclang-18.1.1-py2.py3-none-win_amd64.whl.metadata (5.3 kB)\n",
      "Collecting opt-einsum>=2.3.2 (from tensorflow-intel==2.18.0->tensorflow)\n",
      "  Downloading opt_einsum-3.4.0-py3-none-any.whl.metadata (6.3 kB)\n",
      "Collecting protobuf!=4.21.0,!=4.21.1,!=4.21.2,!=4.21.3,!=4.21.4,!=4.21.5,<6.0.0dev,>=3.20.3 (from tensorflow-intel==2.18.0->tensorflow)\n",
      "  Downloading protobuf-5.29.3-cp310-abi3-win_amd64.whl.metadata (592 bytes)\n",
      "Requirement already satisfied: setuptools in c:\\users\\dhvanibenjasoliya\\miniconda3\\lib\\site-packages (from tensorflow-intel==2.18.0->tensorflow) (75.1.0)\n",
      "Requirement already satisfied: six>=1.12.0 in c:\\users\\dhvanibenjasoliya\\miniconda3\\lib\\site-packages (from tensorflow-intel==2.18.0->tensorflow) (1.17.0)\n",
      "Collecting termcolor>=1.1.0 (from tensorflow-intel==2.18.0->tensorflow)\n",
      "  Downloading termcolor-2.5.0-py3-none-any.whl.metadata (6.1 kB)\n",
      "Requirement already satisfied: typing-extensions>=3.6.6 in c:\\users\\dhvanibenjasoliya\\miniconda3\\lib\\site-packages (from tensorflow-intel==2.18.0->tensorflow) (4.12.2)\n",
      "Collecting wrapt>=1.11.0 (from tensorflow-intel==2.18.0->tensorflow)\n",
      "  Downloading wrapt-1.17.2-cp312-cp312-win_amd64.whl.metadata (6.5 kB)\n",
      "Collecting grpcio<2.0,>=1.24.3 (from tensorflow-intel==2.18.0->tensorflow)\n",
      "  Downloading grpcio-1.70.0-cp312-cp312-win_amd64.whl.metadata (4.0 kB)\n",
      "Collecting tensorboard<2.19,>=2.18 (from tensorflow-intel==2.18.0->tensorflow)\n",
      "  Downloading tensorboard-2.18.0-py3-none-any.whl.metadata (1.6 kB)\n",
      "Collecting keras>=3.5.0 (from tensorflow-intel==2.18.0->tensorflow)\n",
      "  Downloading keras-3.8.0-py3-none-any.whl.metadata (5.8 kB)\n",
      "Collecting numpy\n",
      "  Downloading numpy-2.0.2-cp312-cp312-win_amd64.whl.metadata (59 kB)\n",
      "Collecting h5py>=3.11.0 (from tensorflow-intel==2.18.0->tensorflow)\n",
      "  Downloading h5py-3.12.1-cp312-cp312-win_amd64.whl.metadata (2.5 kB)\n",
      "Collecting ml-dtypes<0.5.0,>=0.4.0 (from tensorflow-intel==2.18.0->tensorflow)\n",
      "  Downloading ml_dtypes-0.4.1-cp312-cp312-win_amd64.whl.metadata (20 kB)\n",
      "Collecting joblib>=1.2.0 (from scikit-learn)\n",
      "  Using cached joblib-1.4.2-py3-none-any.whl.metadata (5.4 kB)\n",
      "Collecting threadpoolctl>=3.1.0 (from scikit-learn)\n",
      "  Using cached threadpoolctl-3.5.0-py3-none-any.whl.metadata (13 kB)\n",
      "Requirement already satisfied: charset-normalizer<4,>=2 in c:\\users\\dhvanibenjasoliya\\miniconda3\\lib\\site-packages (from requests>=2.8.1->wfdb) (3.3.2)\n",
      "Requirement already satisfied: idna<4,>=2.5 in c:\\users\\dhvanibenjasoliya\\miniconda3\\lib\\site-packages (from requests>=2.8.1->wfdb) (3.7)\n",
      "Requirement already satisfied: urllib3<3,>=1.21.1 in c:\\users\\dhvanibenjasoliya\\miniconda3\\lib\\site-packages (from requests>=2.8.1->wfdb) (2.2.3)\n",
      "Requirement already satisfied: certifi>=2017.4.17 in c:\\users\\dhvanibenjasoliya\\miniconda3\\lib\\site-packages (from requests>=2.8.1->wfdb) (2024.8.30)\n",
      "Requirement already satisfied: cffi>=1.0 in c:\\users\\dhvanibenjasoliya\\miniconda3\\lib\\site-packages (from soundfile>=0.10.0->wfdb) (1.17.1)\n",
      "Requirement already satisfied: wheel<1.0,>=0.23.0 in c:\\users\\dhvanibenjasoliya\\miniconda3\\lib\\site-packages (from astunparse>=1.6.0->tensorflow-intel==2.18.0->tensorflow) (0.44.0)\n",
      "Requirement already satisfied: pycparser in c:\\users\\dhvanibenjasoliya\\miniconda3\\lib\\site-packages (from cffi>=1.0->soundfile>=0.10.0->wfdb) (2.21)\n",
      "Collecting rich (from keras>=3.5.0->tensorflow-intel==2.18.0->tensorflow)\n",
      "  Downloading rich-13.9.4-py3-none-any.whl.metadata (18 kB)\n",
      "Collecting namex (from keras>=3.5.0->tensorflow-intel==2.18.0->tensorflow)\n",
      "  Using cached namex-0.0.8-py3-none-any.whl.metadata (246 bytes)\n",
      "Collecting optree (from keras>=3.5.0->tensorflow-intel==2.18.0->tensorflow)\n",
      "  Downloading optree-0.14.0-cp312-cp312-win_amd64.whl.metadata (48 kB)\n",
      "Collecting markdown>=2.6.8 (from tensorboard<2.19,>=2.18->tensorflow-intel==2.18.0->tensorflow)\n",
      "  Downloading Markdown-3.7-py3-none-any.whl.metadata (7.0 kB)\n",
      "Collecting tensorboard-data-server<0.8.0,>=0.7.0 (from tensorboard<2.19,>=2.18->tensorflow-intel==2.18.0->tensorflow)\n",
      "  Using cached tensorboard_data_server-0.7.2-py3-none-any.whl.metadata (1.1 kB)\n",
      "Collecting werkzeug>=1.0.1 (from tensorboard<2.19,>=2.18->tensorflow-intel==2.18.0->tensorflow)\n",
      "  Downloading werkzeug-3.1.3-py3-none-any.whl.metadata (3.7 kB)\n",
      "Requirement already satisfied: MarkupSafe>=2.1.1 in c:\\users\\dhvanibenjasoliya\\miniconda3\\lib\\site-packages (from werkzeug>=1.0.1->tensorboard<2.19,>=2.18->tensorflow-intel==2.18.0->tensorflow) (3.0.2)\n",
      "Collecting markdown-it-py>=2.2.0 (from rich->keras>=3.5.0->tensorflow-intel==2.18.0->tensorflow)\n",
      "  Using cached markdown_it_py-3.0.0-py3-none-any.whl.metadata (6.9 kB)\n",
      "Requirement already satisfied: pygments<3.0.0,>=2.13.0 in c:\\users\\dhvanibenjasoliya\\miniconda3\\lib\\site-packages (from rich->keras>=3.5.0->tensorflow-intel==2.18.0->tensorflow) (2.18.0)\n",
      "Collecting mdurl~=0.1 (from markdown-it-py>=2.2.0->rich->keras>=3.5.0->tensorflow-intel==2.18.0->tensorflow)\n",
      "  Using cached mdurl-0.1.2-py3-none-any.whl.metadata (1.6 kB)\n",
      "Downloading wfdb-4.2.0-py3-none-any.whl (162 kB)\n",
      "Downloading tensorflow-2.18.0-cp312-cp312-win_amd64.whl (7.5 kB)\n",
      "Downloading tensorflow_intel-2.18.0-cp312-cp312-win_amd64.whl (390.3 MB)\n",
      "   ---------------------------------------- 0.0/390.3 MB ? eta -:--:--\n",
      "   ---------------------------------------- 2.4/390.3 MB 12.2 MB/s eta 0:00:32\n",
      "    --------------------------------------- 6.0/390.3 MB 14.7 MB/s eta 0:00:27\n",
      "    --------------------------------------- 9.7/390.3 MB 15.9 MB/s eta 0:00:24\n",
      "   - -------------------------------------- 13.9/390.3 MB 16.8 MB/s eta 0:00:23\n",
      "   - -------------------------------------- 17.3/390.3 MB 16.8 MB/s eta 0:00:23\n",
      "   -- ------------------------------------- 20.4/390.3 MB 16.8 MB/s eta 0:00:23\n",
      "   -- ------------------------------------- 24.4/390.3 MB 17.0 MB/s eta 0:00:22\n",
      "   -- ------------------------------------- 27.0/390.3 MB 16.6 MB/s eta 0:00:22\n",
      "   --- ------------------------------------ 30.4/390.3 MB 16.3 MB/s eta 0:00:23\n",
      "   --- ------------------------------------ 34.3/390.3 MB 16.5 MB/s eta 0:00:22\n",
      "   --- ------------------------------------ 37.7/390.3 MB 16.7 MB/s eta 0:00:22\n",
      "   ---- ----------------------------------- 40.9/390.3 MB 16.5 MB/s eta 0:00:22\n",
      "   ---- ----------------------------------- 43.8/390.3 MB 16.3 MB/s eta 0:00:22\n",
      "   ---- ----------------------------------- 47.2/390.3 MB 16.2 MB/s eta 0:00:22\n",
      "   ----- ---------------------------------- 50.3/390.3 MB 16.2 MB/s eta 0:00:22\n",
      "   ----- ---------------------------------- 53.2/390.3 MB 16.1 MB/s eta 0:00:21\n",
      "   ----- ---------------------------------- 56.6/390.3 MB 16.0 MB/s eta 0:00:21\n",
      "   ----- ---------------------------------- 58.2/390.3 MB 15.6 MB/s eta 0:00:22\n",
      "   ------ --------------------------------- 60.8/390.3 MB 15.4 MB/s eta 0:00:22\n",
      "   ------ --------------------------------- 63.4/390.3 MB 15.3 MB/s eta 0:00:22\n",
      "   ------ --------------------------------- 66.1/390.3 MB 15.1 MB/s eta 0:00:22\n",
      "   ------- -------------------------------- 68.9/390.3 MB 15.0 MB/s eta 0:00:22\n",
      "   ------- -------------------------------- 72.4/390.3 MB 15.1 MB/s eta 0:00:22\n",
      "   ------- -------------------------------- 75.5/390.3 MB 15.1 MB/s eta 0:00:21\n",
      "   -------- ------------------------------- 78.9/390.3 MB 15.1 MB/s eta 0:00:21\n",
      "   -------- ------------------------------- 82.8/390.3 MB 15.2 MB/s eta 0:00:21\n",
      "   -------- ------------------------------- 86.5/390.3 MB 15.3 MB/s eta 0:00:20\n",
      "   --------- ------------------------------ 89.1/390.3 MB 15.2 MB/s eta 0:00:20\n",
      "   --------- ------------------------------ 91.5/390.3 MB 15.1 MB/s eta 0:00:20\n",
      "   --------- ------------------------------ 94.6/390.3 MB 15.1 MB/s eta 0:00:20\n",
      "   ---------- ----------------------------- 98.3/390.3 MB 15.1 MB/s eta 0:00:20\n",
      "   ---------- ---------------------------- 101.2/390.3 MB 15.1 MB/s eta 0:00:20\n",
      "   ---------- ---------------------------- 104.3/390.3 MB 15.1 MB/s eta 0:00:19\n",
      "   ---------- ---------------------------- 108.5/390.3 MB 15.2 MB/s eta 0:00:19\n",
      "   ----------- --------------------------- 112.2/390.3 MB 15.3 MB/s eta 0:00:19\n",
      "   ----------- --------------------------- 115.1/390.3 MB 15.2 MB/s eta 0:00:19\n",
      "   ----------- --------------------------- 118.0/390.3 MB 15.2 MB/s eta 0:00:18\n",
      "   ------------ -------------------------- 122.2/390.3 MB 15.3 MB/s eta 0:00:18\n",
      "   ------------ -------------------------- 125.8/390.3 MB 15.4 MB/s eta 0:00:18\n",
      "   ------------ -------------------------- 129.8/390.3 MB 15.5 MB/s eta 0:00:17\n",
      "   ------------- ------------------------- 133.2/390.3 MB 15.5 MB/s eta 0:00:17\n",
      "   ------------- ------------------------- 136.3/390.3 MB 15.5 MB/s eta 0:00:17\n",
      "   ------------- ------------------------- 139.7/390.3 MB 15.5 MB/s eta 0:00:17\n",
      "   -------------- ------------------------ 143.1/390.3 MB 15.5 MB/s eta 0:00:16\n",
      "   -------------- ------------------------ 146.3/390.3 MB 15.5 MB/s eta 0:00:16\n",
      "   -------------- ------------------------ 148.9/390.3 MB 15.4 MB/s eta 0:00:16\n",
      "   --------------- ----------------------- 152.0/390.3 MB 15.4 MB/s eta 0:00:16\n",
      "   --------------- ----------------------- 154.7/390.3 MB 15.3 MB/s eta 0:00:16\n",
      "   --------------- ----------------------- 157.5/390.3 MB 15.3 MB/s eta 0:00:16\n",
      "   ---------------- ---------------------- 160.4/390.3 MB 15.3 MB/s eta 0:00:16\n",
      "   ---------------- ---------------------- 163.8/390.3 MB 15.3 MB/s eta 0:00:15\n",
      "   ---------------- ---------------------- 167.2/390.3 MB 15.3 MB/s eta 0:00:15\n",
      "   ----------------- --------------------- 170.7/390.3 MB 15.3 MB/s eta 0:00:15\n",
      "   ----------------- --------------------- 174.1/390.3 MB 15.3 MB/s eta 0:00:15\n",
      "   ----------------- --------------------- 178.0/390.3 MB 15.4 MB/s eta 0:00:14\n",
      "   ------------------ -------------------- 180.9/390.3 MB 15.4 MB/s eta 0:00:14\n",
      "   ------------------ -------------------- 184.8/390.3 MB 15.4 MB/s eta 0:00:14\n",
      "   ------------------ -------------------- 189.0/390.3 MB 15.5 MB/s eta 0:00:13\n",
      "   ------------------- ------------------- 192.9/390.3 MB 15.5 MB/s eta 0:00:13\n",
      "   ------------------- ------------------- 196.3/390.3 MB 15.6 MB/s eta 0:00:13\n",
      "   ------------------- ------------------- 200.0/390.3 MB 15.6 MB/s eta 0:00:13\n",
      "   -------------------- ------------------ 202.6/390.3 MB 15.5 MB/s eta 0:00:13\n",
      "   -------------------- ------------------ 206.6/390.3 MB 15.6 MB/s eta 0:00:12\n",
      "   --------------------- ----------------- 210.2/390.3 MB 15.6 MB/s eta 0:00:12\n",
      "   --------------------- ----------------- 213.4/390.3 MB 15.6 MB/s eta 0:00:12\n",
      "   --------------------- ----------------- 216.5/390.3 MB 15.6 MB/s eta 0:00:12\n",
      "   --------------------- ----------------- 218.9/390.3 MB 15.5 MB/s eta 0:00:12\n",
      "   ---------------------- ---------------- 221.2/390.3 MB 15.5 MB/s eta 0:00:11\n",
      "   ---------------------- ---------------- 224.4/390.3 MB 15.5 MB/s eta 0:00:11\n",
      "   ---------------------- ---------------- 227.3/390.3 MB 15.5 MB/s eta 0:00:11\n",
      "   ----------------------- --------------- 230.9/390.3 MB 15.5 MB/s eta 0:00:11\n",
      "   ----------------------- --------------- 234.6/390.3 MB 15.5 MB/s eta 0:00:11\n",
      "   ----------------------- --------------- 237.5/390.3 MB 15.5 MB/s eta 0:00:10\n",
      "   ------------------------ -------------- 241.7/390.3 MB 15.5 MB/s eta 0:00:10\n",
      "   ------------------------ -------------- 244.6/390.3 MB 15.5 MB/s eta 0:00:10\n",
      "   ------------------------ -------------- 248.0/390.3 MB 15.5 MB/s eta 0:00:10\n",
      "   ------------------------- ------------- 252.2/390.3 MB 15.6 MB/s eta 0:00:09\n",
      "   ------------------------- ------------- 255.3/390.3 MB 15.6 MB/s eta 0:00:09\n",
      "   ------------------------- ------------- 258.7/390.3 MB 15.6 MB/s eta 0:00:09\n",
      "   -------------------------- ------------ 262.7/390.3 MB 15.6 MB/s eta 0:00:09\n",
      "   -------------------------- ------------ 266.1/390.3 MB 15.6 MB/s eta 0:00:08\n",
      "   -------------------------- ------------ 269.5/390.3 MB 15.6 MB/s eta 0:00:08\n",
      "   --------------------------- ----------- 273.4/390.3 MB 15.6 MB/s eta 0:00:08\n",
      "   --------------------------- ----------- 276.3/390.3 MB 15.6 MB/s eta 0:00:08\n",
      "   --------------------------- ----------- 278.9/390.3 MB 15.5 MB/s eta 0:00:08\n",
      "   ---------------------------- ---------- 282.1/390.3 MB 15.5 MB/s eta 0:00:07\n",
      "   ---------------------------- ---------- 285.0/390.3 MB 15.5 MB/s eta 0:00:07\n",
      "   ---------------------------- ---------- 287.0/390.3 MB 15.4 MB/s eta 0:00:07\n",
      "   ---------------------------- ---------- 289.4/390.3 MB 15.4 MB/s eta 0:00:07\n",
      "   ----------------------------- --------- 293.6/390.3 MB 15.4 MB/s eta 0:00:07\n",
      "   ----------------------------- --------- 298.3/390.3 MB 15.4 MB/s eta 0:00:06\n",
      "   ------------------------------ -------- 302.5/390.3 MB 15.5 MB/s eta 0:00:06\n",
      "   ------------------------------ -------- 305.9/390.3 MB 15.5 MB/s eta 0:00:06\n",
      "   ------------------------------ -------- 309.6/390.3 MB 15.6 MB/s eta 0:00:06\n",
      "   ------------------------------- ------- 313.0/390.3 MB 15.6 MB/s eta 0:00:05\n",
      "   ------------------------------- ------- 315.9/390.3 MB 15.6 MB/s eta 0:00:05\n",
      "   ------------------------------- ------- 318.8/390.3 MB 15.6 MB/s eta 0:00:05\n",
      "   -------------------------------- ------ 322.2/390.3 MB 15.7 MB/s eta 0:00:05\n",
      "   -------------------------------- ------ 325.8/390.3 MB 15.8 MB/s eta 0:00:05\n",
      "   -------------------------------- ------ 329.0/390.3 MB 15.8 MB/s eta 0:00:04\n",
      "   --------------------------------- ----- 331.6/390.3 MB 15.8 MB/s eta 0:00:04\n",
      "   --------------------------------- ----- 335.0/390.3 MB 15.8 MB/s eta 0:00:04\n",
      "   --------------------------------- ----- 339.0/390.3 MB 15.8 MB/s eta 0:00:04\n",
      "   ---------------------------------- ---- 342.6/390.3 MB 15.8 MB/s eta 0:00:04\n",
      "   ---------------------------------- ---- 346.3/390.3 MB 15.8 MB/s eta 0:00:03\n",
      "   ---------------------------------- ---- 349.7/390.3 MB 15.8 MB/s eta 0:00:03\n",
      "   ----------------------------------- --- 353.6/390.3 MB 15.9 MB/s eta 0:00:03\n",
      "   ----------------------------------- --- 357.8/390.3 MB 16.0 MB/s eta 0:00:03\n",
      "   ------------------------------------ -- 361.2/390.3 MB 16.0 MB/s eta 0:00:02\n",
      "   ------------------------------------ -- 364.4/390.3 MB 16.0 MB/s eta 0:00:02\n",
      "   ------------------------------------ -- 368.1/390.3 MB 16.0 MB/s eta 0:00:02\n",
      "   ------------------------------------- - 372.0/390.3 MB 16.0 MB/s eta 0:00:02\n",
      "   ------------------------------------- - 375.1/390.3 MB 16.0 MB/s eta 0:00:01\n",
      "   ------------------------------------- - 378.0/390.3 MB 16.0 MB/s eta 0:00:01\n",
      "   --------------------------------------  381.7/390.3 MB 16.0 MB/s eta 0:00:01\n",
      "   --------------------------------------  385.4/390.3 MB 16.0 MB/s eta 0:00:01\n",
      "   --------------------------------------  389.5/390.3 MB 16.0 MB/s eta 0:00:01\n",
      "   --------------------------------------  390.1/390.3 MB 16.0 MB/s eta 0:00:01\n",
      "   --------------------------------------  390.1/390.3 MB 16.0 MB/s eta 0:00:01\n",
      "   --------------------------------------  390.1/390.3 MB 16.0 MB/s eta 0:00:01\n",
      "   --------------------------------------  390.1/390.3 MB 16.0 MB/s eta 0:00:01\n",
      "   --------------------------------------  390.1/390.3 MB 16.0 MB/s eta 0:00:01\n",
      "   --------------------------------------  390.1/390.3 MB 16.0 MB/s eta 0:00:01\n",
      "   --------------------------------------  390.1/390.3 MB 16.0 MB/s eta 0:00:01\n",
      "   --------------------------------------  390.1/390.3 MB 16.0 MB/s eta 0:00:01\n",
      "   --------------------------------------  390.1/390.3 MB 16.0 MB/s eta 0:00:01\n",
      "   --------------------------------------  390.1/390.3 MB 16.0 MB/s eta 0:00:01\n",
      "   --------------------------------------  390.1/390.3 MB 16.0 MB/s eta 0:00:01\n",
      "   --------------------------------------  390.1/390.3 MB 16.0 MB/s eta 0:00:01\n",
      "   --------------------------------------  390.1/390.3 MB 16.0 MB/s eta 0:00:01\n",
      "   --------------------------------------  390.1/390.3 MB 16.0 MB/s eta 0:00:01\n",
      "   --------------------------------------  390.1/390.3 MB 16.0 MB/s eta 0:00:01\n",
      "   --------------------------------------  390.1/390.3 MB 16.0 MB/s eta 0:00:01\n",
      "   --------------------------------------  390.1/390.3 MB 16.0 MB/s eta 0:00:01\n",
      "   --------------------------------------  390.1/390.3 MB 16.0 MB/s eta 0:00:01\n",
      "   --------------------------------------  390.1/390.3 MB 16.0 MB/s eta 0:00:01\n",
      "   --------------------------------------  390.1/390.3 MB 16.0 MB/s eta 0:00:01\n",
      "   --------------------------------------  390.1/390.3 MB 16.0 MB/s eta 0:00:01\n",
      "   --------------------------------------  390.1/390.3 MB 16.0 MB/s eta 0:00:01\n",
      "   --------------------------------------  390.1/390.3 MB 16.0 MB/s eta 0:00:01\n",
      "   --------------------------------------  390.1/390.3 MB 16.0 MB/s eta 0:00:01\n",
      "   --------------------------------------  390.1/390.3 MB 16.0 MB/s eta 0:00:01\n",
      "   --------------------------------------  390.1/390.3 MB 16.0 MB/s eta 0:00:01\n",
      "   --------------------------------------  390.1/390.3 MB 16.0 MB/s eta 0:00:01\n",
      "   --------------------------------------  390.1/390.3 MB 16.0 MB/s eta 0:00:01\n",
      "   --------------------------------------  390.1/390.3 MB 16.0 MB/s eta 0:00:01\n",
      "   --------------------------------------- 390.3/390.3 MB 11.6 MB/s eta 0:00:00\n",
      "Downloading numpy-2.0.2-cp312-cp312-win_amd64.whl (15.6 MB)\n",
      "   ---------------------------------------- 0.0/15.6 MB ? eta -:--:--\n",
      "   ---------- ----------------------------- 3.9/15.6 MB 18.1 MB/s eta 0:00:01\n",
      "   ------------------ --------------------- 7.3/15.6 MB 18.1 MB/s eta 0:00:01\n",
      "   -------------------------- ------------- 10.2/15.6 MB 15.9 MB/s eta 0:00:01\n",
      "   ------------------------------------ --- 14.2/15.6 MB 16.8 MB/s eta 0:00:01\n",
      "   ---------------------------------------  15.5/15.6 MB 16.8 MB/s eta 0:00:01\n",
      "   ---------------------------------------- 15.6/15.6 MB 13.6 MB/s eta 0:00:00\n",
      "Downloading scikit_learn-1.6.1-cp312-cp312-win_amd64.whl (11.1 MB)\n",
      "   ---------------------------------------- 0.0/11.1 MB ? eta -:--:--\n",
      "   ----------- ---------------------------- 3.1/11.1 MB 15.3 MB/s eta 0:00:01\n",
      "   ------------------------ --------------- 6.8/11.1 MB 16.8 MB/s eta 0:00:01\n",
      "   ---------------------------------- ----- 9.7/11.1 MB 15.9 MB/s eta 0:00:01\n",
      "   ---------------------------------------  11.0/11.1 MB 15.6 MB/s eta 0:00:01\n",
      "   ---------------------------------------  11.0/11.1 MB 15.6 MB/s eta 0:00:01\n",
      "   ---------------------------------------  11.0/11.1 MB 15.6 MB/s eta 0:00:01\n",
      "   ---------------------------------------  11.0/11.1 MB 15.6 MB/s eta 0:00:01\n",
      "   ---------------------------------------  11.0/11.1 MB 15.6 MB/s eta 0:00:01\n",
      "   ---------------------------------------  11.0/11.1 MB 15.6 MB/s eta 0:00:01\n",
      "   ---------------------------------------- 11.1/11.1 MB 5.5 MB/s eta 0:00:00\n",
      "Using cached joblib-1.4.2-py3-none-any.whl (301 kB)\n",
      "Downloading soundfile-0.13.1-py2.py3-none-win_amd64.whl (1.0 MB)\n",
      "   ---------------------------------------- 0.0/1.0 MB ? eta -:--:--\n",
      "   ---------------------------------------- 1.0/1.0 MB 9.7 MB/s eta 0:00:00\n",
      "Using cached threadpoolctl-3.5.0-py3-none-any.whl (18 kB)\n",
      "Using cached absl_py-2.1.0-py3-none-any.whl (133 kB)\n",
      "Using cached astunparse-1.6.3-py2.py3-none-any.whl (12 kB)\n",
      "Downloading flatbuffers-25.1.24-py2.py3-none-any.whl (30 kB)\n",
      "Using cached gast-0.6.0-py3-none-any.whl (21 kB)\n",
      "Using cached google_pasta-0.2.0-py3-none-any.whl (57 kB)\n",
      "Downloading grpcio-1.70.0-cp312-cp312-win_amd64.whl (4.3 MB)\n",
      "   ---------------------------------------- 0.0/4.3 MB ? eta -:--:--\n",
      "   -------------------------- ------------- 2.9/4.3 MB 15.2 MB/s eta 0:00:01\n",
      "   ---------------------------------------- 4.3/4.3 MB 12.9 MB/s eta 0:00:00\n",
      "Downloading h5py-3.12.1-cp312-cp312-win_amd64.whl (3.0 MB)\n",
      "   ---------------------------------------- 0.0/3.0 MB ? eta -:--:--\n",
      "   ---------------------------------------- 3.0/3.0 MB 14.6 MB/s eta 0:00:00\n",
      "Downloading keras-3.8.0-py3-none-any.whl (1.3 MB)\n",
      "   ---------------------------------------- 0.0/1.3 MB ? eta -:--:--\n",
      "   ---------------------------------------- 1.3/1.3 MB 13.3 MB/s eta 0:00:00\n",
      "Using cached libclang-18.1.1-py2.py3-none-win_amd64.whl (26.4 MB)\n",
      "Downloading ml_dtypes-0.4.1-cp312-cp312-win_amd64.whl (127 kB)\n",
      "Downloading opt_einsum-3.4.0-py3-none-any.whl (71 kB)\n",
      "Downloading protobuf-5.29.3-cp310-abi3-win_amd64.whl (434 kB)\n",
      "Downloading tensorboard-2.18.0-py3-none-any.whl (5.5 MB)\n",
      "   ---------------------------------------- 0.0/5.5 MB ? eta -:--:--\n",
      "   -------------------------- ------------- 3.7/5.5 MB 18.2 MB/s eta 0:00:01\n",
      "   -------------------------------------- - 5.2/5.5 MB 17.7 MB/s eta 0:00:01\n",
      "   ---------------------------------------- 5.5/5.5 MB 10.8 MB/s eta 0:00:00\n",
      "Downloading termcolor-2.5.0-py3-none-any.whl (7.8 kB)\n",
      "Downloading wrapt-1.17.2-cp312-cp312-win_amd64.whl (38 kB)\n",
      "Downloading Markdown-3.7-py3-none-any.whl (106 kB)\n",
      "Using cached tensorboard_data_server-0.7.2-py3-none-any.whl (2.4 kB)\n",
      "Downloading werkzeug-3.1.3-py3-none-any.whl (224 kB)\n",
      "Using cached namex-0.0.8-py3-none-any.whl (5.8 kB)\n",
      "Downloading optree-0.14.0-cp312-cp312-win_amd64.whl (299 kB)\n",
      "Downloading rich-13.9.4-py3-none-any.whl (242 kB)\n",
      "Using cached markdown_it_py-3.0.0-py3-none-any.whl (87 kB)\n",
      "Using cached mdurl-0.1.2-py3-none-any.whl (10.0 kB)\n",
      "Installing collected packages: namex, libclang, flatbuffers, wrapt, werkzeug, threadpoolctl, termcolor, tensorboard-data-server, protobuf, optree, opt-einsum, numpy, mdurl, markdown, joblib, grpcio, google-pasta, gast, astunparse, absl-py, tensorboard, soundfile, ml-dtypes, markdown-it-py, h5py, scikit-learn, rich, wfdb, keras, tensorflow-intel, tensorflow\n",
      "  Attempting uninstall: numpy\n",
      "    Found existing installation: numpy 2.2.0\n",
      "    Uninstalling numpy-2.2.0:\n",
      "      Successfully uninstalled numpy-2.2.0\n",
      "Successfully installed absl-py-2.1.0 astunparse-1.6.3 flatbuffers-25.1.24 gast-0.6.0 google-pasta-0.2.0 grpcio-1.70.0 h5py-3.12.1 joblib-1.4.2 keras-3.8.0 libclang-18.1.1 markdown-3.7 markdown-it-py-3.0.0 mdurl-0.1.2 ml-dtypes-0.4.1 namex-0.0.8 numpy-2.0.2 opt-einsum-3.4.0 optree-0.14.0 protobuf-5.29.3 rich-13.9.4 scikit-learn-1.6.1 soundfile-0.13.1 tensorboard-2.18.0 tensorboard-data-server-0.7.2 tensorflow-2.18.0 tensorflow-intel-2.18.0 termcolor-2.5.0 threadpoolctl-3.5.0 werkzeug-3.1.3 wfdb-4.2.0 wrapt-1.17.2\n"
     ]
    }
   ],
   "source": [
    "!pip install wfdb numpy pandas matplotlib tensorflow scikit-learn"
   ]
  },
  {
   "cell_type": "markdown",
   "id": "91c06223-d2f3-4497-af83-b3887ddf5c98",
   "metadata": {},
   "source": [
    "### Download the MIT-BIH Dataset"
   ]
  },
  {
   "cell_type": "code",
   "execution_count": 2,
   "id": "f4fbd93a-1a68-4ad3-ac07-381573a15b1d",
   "metadata": {
    "scrolled": true
   },
   "outputs": [
    {
     "name": "stdout",
     "output_type": "stream",
     "text": [
      "Generating record list for: 100\n",
      "Generating record list for: 101\n",
      "Generating record list for: 102\n",
      "Generating record list for: 103\n",
      "Generating record list for: 104\n",
      "Generating record list for: 105\n",
      "Generating record list for: 106\n",
      "Generating record list for: 107\n",
      "Generating record list for: 108\n",
      "Generating record list for: 109\n",
      "Generating record list for: 111\n",
      "Generating record list for: 112\n",
      "Generating record list for: 113\n",
      "Generating record list for: 114\n",
      "Generating record list for: 115\n",
      "Generating record list for: 116\n",
      "Generating record list for: 117\n",
      "Generating record list for: 118\n",
      "Generating record list for: 119\n",
      "Generating record list for: 121\n",
      "Generating record list for: 122\n",
      "Generating record list for: 123\n",
      "Generating record list for: 124\n",
      "Generating record list for: 200\n",
      "Generating record list for: 201\n",
      "Generating record list for: 202\n",
      "Generating record list for: 203\n",
      "Generating record list for: 205\n",
      "Generating record list for: 207\n",
      "Generating record list for: 208\n",
      "Generating record list for: 209\n",
      "Generating record list for: 210\n",
      "Generating record list for: 212\n",
      "Generating record list for: 213\n",
      "Generating record list for: 214\n",
      "Generating record list for: 215\n",
      "Generating record list for: 217\n",
      "Generating record list for: 219\n",
      "Generating record list for: 220\n",
      "Generating record list for: 221\n",
      "Generating record list for: 222\n",
      "Generating record list for: 223\n",
      "Generating record list for: 228\n",
      "Generating record list for: 230\n",
      "Generating record list for: 231\n",
      "Generating record list for: 232\n",
      "Generating record list for: 233\n",
      "Generating record list for: 234\n",
      "Generating list of all files for: 100\n",
      "Generating list of all files for: 101\n",
      "Generating list of all files for: 102\n",
      "Generating list of all files for: 103\n",
      "Generating list of all files for: 104\n",
      "Generating list of all files for: 105\n",
      "Generating list of all files for: 106\n",
      "Generating list of all files for: 107\n",
      "Generating list of all files for: 108\n",
      "Generating list of all files for: 109\n",
      "Generating list of all files for: 111\n",
      "Generating list of all files for: 112\n",
      "Generating list of all files for: 113\n",
      "Generating list of all files for: 114\n",
      "Generating list of all files for: 115\n",
      "Generating list of all files for: 116\n",
      "Generating list of all files for: 117\n",
      "Generating list of all files for: 118\n",
      "Generating list of all files for: 119\n",
      "Generating list of all files for: 121\n",
      "Generating list of all files for: 122\n",
      "Generating list of all files for: 123\n",
      "Generating list of all files for: 124\n",
      "Generating list of all files for: 200\n",
      "Generating list of all files for: 201\n",
      "Generating list of all files for: 202\n",
      "Generating list of all files for: 203\n",
      "Generating list of all files for: 205\n",
      "Generating list of all files for: 207\n",
      "Generating list of all files for: 208\n",
      "Generating list of all files for: 209\n",
      "Generating list of all files for: 210\n",
      "Generating list of all files for: 212\n",
      "Generating list of all files for: 213\n",
      "Generating list of all files for: 214\n",
      "Generating list of all files for: 215\n",
      "Generating list of all files for: 217\n",
      "Generating list of all files for: 219\n",
      "Generating list of all files for: 220\n",
      "Generating list of all files for: 221\n",
      "Generating list of all files for: 222\n",
      "Generating list of all files for: 223\n",
      "Generating list of all files for: 228\n",
      "Generating list of all files for: 230\n",
      "Generating list of all files for: 231\n",
      "Generating list of all files for: 232\n",
      "Generating list of all files for: 233\n",
      "Generating list of all files for: 234\n",
      "Created local base download directory: mit-bih-arrhythmia-database-1.0.0\n",
      "Downloading files...\n",
      "Finished downloading files\n"
     ]
    }
   ],
   "source": [
    "import wfdb\n",
    "\n",
    "# Download the dataset files for a specific record (e.g., \"100\")\n",
    "wfdb.dl_database('mitdb', dl_dir='mit-bih-arrhythmia-database-1.0.0')"
   ]
  },
  {
   "cell_type": "markdown",
   "id": "5beed529-2998-4f5b-9f26-f0eedc842356",
   "metadata": {},
   "source": [
    "### Load and Visualize ECG Data"
   ]
  },
  {
   "cell_type": "code",
   "execution_count": 3,
   "id": "068003eb-9e94-409e-8e68-2cd59781b07e",
   "metadata": {},
   "outputs": [
    {
     "data": {
      "image/png": "[encoded data removed]",
      "text/plain": [
       "<Figure size 1200x400 with 1 Axes>"
      ]
     },
     "metadata": {},
     "output_type": "display_data"
    }
   ],
   "source": [
    "import wfdb\n",
    "import matplotlib.pyplot as plt\n",
    "\n",
    "# Load ECG record\n",
    "record = wfdb.rdrecord('mit-bih-arrhythmia-database-1.0.0/100')\n",
    "\n",
    "# Extract signal\n",
    "ecg_signal = record.p_signal[:, 0]  # First channel (Lead I)\n",
    "\n",
    "# Plot ECG signal (First 1000 samples)\n",
    "plt.figure(figsize=(12, 4))\n",
    "plt.plot(ecg_signal[:1000])\n",
    "plt.title(\"ECG Signal Sample (First 1000 samples)\")\n",
    "plt.xlabel(\"Time (samples)\")\n",
    "plt.ylabel(\"Amplitude\")\n",
    "plt.show()"
   ]
  },
  {
   "cell_type": "markdown",
   "id": "640b0647-7644-4bb0-afd4-55a5d6fd7575",
   "metadata": {},
   "source": [
    "### Preprocess ECG Data"
   ]
  },
  {
   "cell_type": "code",
   "execution_count": 4,
   "id": "1f8a4f79-b9ec-43d3-bae3-05e26253d986",
   "metadata": {},
   "outputs": [
    {
     "name": "stdout",
     "output_type": "stream",
     "text": [
      "Segmented ECG Data Shape: (3249, 200)\n"
     ]
    }
   ],
   "source": [
    "from sklearn.preprocessing import StandardScaler\n",
    "import numpy as np\n",
    "\n",
    "# Normalize ECG signal\n",
    "scaler = StandardScaler()\n",
    "ecg_signal = scaler.fit_transform(ecg_signal.reshape(-1, 1)).flatten()\n",
    "\n",
    "# Segment the signal into fixed-size windows (e.g., 200 samples per segment)\n",
    "window_size = 200\n",
    "segments = [ecg_signal[i:i+window_size] for i in range(0, len(ecg_signal) - window_size, window_size)]\n",
    "\n",
    "# Convert list to NumPy array\n",
    "segments = np.array(segments)\n",
    "\n",
    "print(\"Segmented ECG Data Shape:\", segments.shape)  # (num_segments, window_size)\n"
   ]
  },
  {
   "cell_type": "markdown",
   "id": "ea23dc49-d6f5-479f-ad93-385da1d7e93c",
   "metadata": {},
   "source": [
    "### Assign Labels as Normal vs. Arrhythmia"
   ]
  },
  {
   "cell_type": "code",
   "execution_count": 5,
   "id": "84014431-a2c7-4759-a401-e05d1cd88773",
   "metadata": {},
   "outputs": [
    {
     "name": "stdout",
     "output_type": "stream",
     "text": [
      "Labels shape: (3249,)\n"
     ]
    }
   ],
   "source": [
    "# Dummy labels (0 = Normal, 1 = Arrhythmia)\n",
    "y = np.random.randint(0, 2, size=(segments.shape[0],))  # Replace with real labels\n",
    "\n",
    "print(\"Labels shape:\", y.shape)\n"
   ]
  },
  {
   "cell_type": "markdown",
   "id": "83812922-284f-4d4b-b45d-1d3028ecf487",
   "metadata": {},
   "source": [
    "### Train-Test"
   ]
  },
  {
   "cell_type": "code",
   "execution_count": 6,
   "id": "fe434330-2272-4d88-a3b3-712aa9f9616a",
   "metadata": {},
   "outputs": [
    {
     "name": "stdout",
     "output_type": "stream",
     "text": [
      "Training data shape: (2599, 200, 1)\n",
      "Testing data shape: (650, 200, 1)\n"
     ]
    }
   ],
   "source": [
    "from sklearn.model_selection import train_test_split\n",
    "\n",
    "# Reshape for CNN input (samples, time_steps, channels)\n",
    "X = segments.reshape(segments.shape[0], window_size, 1)\n",
    "\n",
    "# Train-test split\n",
    "X_train, X_test, y_train, y_test = train_test_split(X, y, test_size=0.2, random_state=42)\n",
    "\n",
    "print(\"Training data shape:\", X_train.shape)\n",
    "print(\"Testing data shape:\", X_test.shape)\n"
   ]
  },
  {
   "cell_type": "markdown",
   "id": "f92015cc-6741-4a6b-9b5b-dd8879e66f6c",
   "metadata": {},
   "source": [
    "## Build the CNN Model"
   ]
  },
  {
   "cell_type": "code",
   "execution_count": 7,
   "id": "2b4312f8-62b2-4838-8ac9-73d49f18bbaa",
   "metadata": {},
   "outputs": [
    {
     "name": "stderr",
     "output_type": "stream",
     "text": [
      "C:\\Users\\DhvanibenJasoliya\\miniconda3\\Lib\\site-packages\\keras\\src\\layers\\convolutional\\base_conv.py:107: UserWarning: Do not pass an `input_shape`/`input_dim` argument to a layer. When using Sequential models, prefer using an `Input(shape)` object as the first layer in the model instead.\n",
      "  super().__init__(activity_regularizer=activity_regularizer, **kwargs)\n"
     ]
    },
    {
     "data": {
      "text/html": [
       "<pre style=\"white-space:pre;overflow-x:auto;line-height:normal;font-family:Menlo,'DejaVu Sans Mono',consolas,'Courier New',monospace\"><span style=\"font-weight: bold\">Model: \"sequential\"</span>\n",
       "</pre>\n"
      ],
      "text/plain": [
       "\u001b[1mModel: \"sequential\"\u001b[0m\n"
      ]
     },
     "metadata": {},
     "output_type": "display_data"
    },
    {
     "data": {
      "text/html": [
       "<pre style=\"white-space:pre;overflow-x:auto;line-height:normal;font-family:Menlo,'DejaVu Sans Mono',consolas,'Courier New',monospace\">┏━━━━━━━━━━━━━━━━━━━━━━━━━━━━━━━━━━━━━━┳━━━━━━━━━━━━━━━━━━━━━━━━━━━━━┳━━━━━━━━━━━━━━━━━┓\n",
       "┃<span style=\"font-weight: bold\"> Layer (type)                         </span>┃<span style=\"font-weight: bold\"> Output Shape                </span>┃<span style=\"font-weight: bold\">         Param # </span>┃\n",
       "┡━━━━━━━━━━━━━━━━━━━━━━━━━━━━━━━━━━━━━━╇━━━━━━━━━━━━━━━━━━━━━━━━━━━━━╇━━━━━━━━━━━━━━━━━┩\n",
       "│ conv1d (<span style=\"color: #0087ff; text-decoration-color: #0087ff\">Conv1D</span>)                      │ (<span style=\"color: #00d7ff; text-decoration-color: #00d7ff\">None</span>, <span style=\"color: #00af00; text-decoration-color: #00af00\">198</span>, <span style=\"color: #00af00; text-decoration-color: #00af00\">32</span>)             │             <span style=\"color: #00af00; text-decoration-color: #00af00\">128</span> │\n",
       "├──────────────────────────────────────┼─────────────────────────────┼─────────────────┤\n",
       "│ max_pooling1d (<span style=\"color: #0087ff; text-decoration-color: #0087ff\">MaxPooling1D</span>)         │ (<span style=\"color: #00d7ff; text-decoration-color: #00d7ff\">None</span>, <span style=\"color: #00af00; text-decoration-color: #00af00\">99</span>, <span style=\"color: #00af00; text-decoration-color: #00af00\">32</span>)              │               <span style=\"color: #00af00; text-decoration-color: #00af00\">0</span> │\n",
       "├──────────────────────────────────────┼─────────────────────────────┼─────────────────┤\n",
       "│ conv1d_1 (<span style=\"color: #0087ff; text-decoration-color: #0087ff\">Conv1D</span>)                    │ (<span style=\"color: #00d7ff; text-decoration-color: #00d7ff\">None</span>, <span style=\"color: #00af00; text-decoration-color: #00af00\">97</span>, <span style=\"color: #00af00; text-decoration-color: #00af00\">64</span>)              │           <span style=\"color: #00af00; text-decoration-color: #00af00\">6,208</span> │\n",
       "├──────────────────────────────────────┼─────────────────────────────┼─────────────────┤\n",
       "│ max_pooling1d_1 (<span style=\"color: #0087ff; text-decoration-color: #0087ff\">MaxPooling1D</span>)       │ (<span style=\"color: #00d7ff; text-decoration-color: #00d7ff\">None</span>, <span style=\"color: #00af00; text-decoration-color: #00af00\">48</span>, <span style=\"color: #00af00; text-decoration-color: #00af00\">64</span>)              │               <span style=\"color: #00af00; text-decoration-color: #00af00\">0</span> │\n",
       "├──────────────────────────────────────┼─────────────────────────────┼─────────────────┤\n",
       "│ flatten (<span style=\"color: #0087ff; text-decoration-color: #0087ff\">Flatten</span>)                    │ (<span style=\"color: #00d7ff; text-decoration-color: #00d7ff\">None</span>, <span style=\"color: #00af00; text-decoration-color: #00af00\">3072</span>)                │               <span style=\"color: #00af00; text-decoration-color: #00af00\">0</span> │\n",
       "├──────────────────────────────────────┼─────────────────────────────┼─────────────────┤\n",
       "│ dense (<span style=\"color: #0087ff; text-decoration-color: #0087ff\">Dense</span>)                        │ (<span style=\"color: #00d7ff; text-decoration-color: #00d7ff\">None</span>, <span style=\"color: #00af00; text-decoration-color: #00af00\">128</span>)                 │         <span style=\"color: #00af00; text-decoration-color: #00af00\">393,344</span> │\n",
       "├──────────────────────────────────────┼─────────────────────────────┼─────────────────┤\n",
       "│ dropout (<span style=\"color: #0087ff; text-decoration-color: #0087ff\">Dropout</span>)                    │ (<span style=\"color: #00d7ff; text-decoration-color: #00d7ff\">None</span>, <span style=\"color: #00af00; text-decoration-color: #00af00\">128</span>)                 │               <span style=\"color: #00af00; text-decoration-color: #00af00\">0</span> │\n",
       "├──────────────────────────────────────┼─────────────────────────────┼─────────────────┤\n",
       "│ dense_1 (<span style=\"color: #0087ff; text-decoration-color: #0087ff\">Dense</span>)                      │ (<span style=\"color: #00d7ff; text-decoration-color: #00d7ff\">None</span>, <span style=\"color: #00af00; text-decoration-color: #00af00\">1</span>)                   │             <span style=\"color: #00af00; text-decoration-color: #00af00\">129</span> │\n",
       "└──────────────────────────────────────┴─────────────────────────────┴─────────────────┘\n",
       "</pre>\n"
      ],
      "text/plain": [
       "┏━━━━━━━━━━━━━━━━━━━━━━━━━━━━━━━━━━━━━━┳━━━━━━━━━━━━━━━━━━━━━━━━━━━━━┳━━━━━━━━━━━━━━━━━┓\n",
       "┃\u001b[1m \u001b[0m\u001b[1mLayer (type)                        \u001b[0m\u001b[1m \u001b[0m┃\u001b[1m \u001b[0m\u001b[1mOutput Shape               \u001b[0m\u001b[1m \u001b[0m┃\u001b[1m \u001b[0m\u001b[1m        Param #\u001b[0m\u001b[1m \u001b[0m┃\n",
       "┡━━━━━━━━━━━━━━━━━━━━━━━━━━━━━━━━━━━━━━╇━━━━━━━━━━━━━━━━━━━━━━━━━━━━━╇━━━━━━━━━━━━━━━━━┩\n",
       "│ conv1d (\u001b[38;5;33mConv1D\u001b[0m)                      │ (\u001b[38;5;45mNone\u001b[0m, \u001b[38;5;34m198\u001b[0m, \u001b[38;5;34m32\u001b[0m)             │             \u001b[38;5;34m128\u001b[0m │\n",
       "├──────────────────────────────────────┼─────────────────────────────┼─────────────────┤\n",
       "│ max_pooling1d (\u001b[38;5;33mMaxPooling1D\u001b[0m)         │ (\u001b[38;5;45mNone\u001b[0m, \u001b[38;5;34m99\u001b[0m, \u001b[38;5;34m32\u001b[0m)              │               \u001b[38;5;34m0\u001b[0m │\n",
       "├──────────────────────────────────────┼─────────────────────────────┼─────────────────┤\n",
       "│ conv1d_1 (\u001b[38;5;33mConv1D\u001b[0m)                    │ (\u001b[38;5;45mNone\u001b[0m, \u001b[38;5;34m97\u001b[0m, \u001b[38;5;34m64\u001b[0m)              │           \u001b[38;5;34m6,208\u001b[0m │\n",
       "├──────────────────────────────────────┼─────────────────────────────┼─────────────────┤\n",
       "│ max_pooling1d_1 (\u001b[38;5;33mMaxPooling1D\u001b[0m)       │ (\u001b[38;5;45mNone\u001b[0m, \u001b[38;5;34m48\u001b[0m, \u001b[38;5;34m64\u001b[0m)              │               \u001b[38;5;34m0\u001b[0m │\n",
       "├──────────────────────────────────────┼─────────────────────────────┼─────────────────┤\n",
       "│ flatten (\u001b[38;5;33mFlatten\u001b[0m)                    │ (\u001b[38;5;45mNone\u001b[0m, \u001b[38;5;34m3072\u001b[0m)                │               \u001b[38;5;34m0\u001b[0m │\n",
       "├──────────────────────────────────────┼─────────────────────────────┼─────────────────┤\n",
       "│ dense (\u001b[38;5;33mDense\u001b[0m)                        │ (\u001b[38;5;45mNone\u001b[0m, \u001b[38;5;34m128\u001b[0m)                 │         \u001b[38;5;34m393,344\u001b[0m │\n",
       "├──────────────────────────────────────┼─────────────────────────────┼─────────────────┤\n",
       "│ dropout (\u001b[38;5;33mDropout\u001b[0m)                    │ (\u001b[38;5;45mNone\u001b[0m, \u001b[38;5;34m128\u001b[0m)                 │               \u001b[38;5;34m0\u001b[0m │\n",
       "├──────────────────────────────────────┼─────────────────────────────┼─────────────────┤\n",
       "│ dense_1 (\u001b[38;5;33mDense\u001b[0m)                      │ (\u001b[38;5;45mNone\u001b[0m, \u001b[38;5;34m1\u001b[0m)                   │             \u001b[38;5;34m129\u001b[0m │\n",
       "└──────────────────────────────────────┴─────────────────────────────┴─────────────────┘\n"
      ]
     },
     "metadata": {},
     "output_type": "display_data"
    },
    {
     "data": {
      "text/html": [
       "<pre style=\"white-space:pre;overflow-x:auto;line-height:normal;font-family:Menlo,'DejaVu Sans Mono',consolas,'Courier New',monospace\"><span style=\"font-weight: bold\"> Total params: </span><span style=\"color: #00af00; text-decoration-color: #00af00\">399,809</span> (1.53 MB)\n",
       "</pre>\n"
      ],
      "text/plain": [
       "\u001b[1m Total params: \u001b[0m\u001b[38;5;34m399,809\u001b[0m (1.53 MB)\n"
      ]
     },
     "metadata": {},
     "output_type": "display_data"
    },
    {
     "data": {
      "text/html": [
       "<pre style=\"white-space:pre;overflow-x:auto;line-height:normal;font-family:Menlo,'DejaVu Sans Mono',consolas,'Courier New',monospace\"><span style=\"font-weight: bold\"> Trainable params: </span><span style=\"color: #00af00; text-decoration-color: #00af00\">399,809</span> (1.53 MB)\n",
       "</pre>\n"
      ],
      "text/plain": [
       "\u001b[1m Trainable params: \u001b[0m\u001b[38;5;34m399,809\u001b[0m (1.53 MB)\n"
      ]
     },
     "metadata": {},
     "output_type": "display_data"
    },
    {
     "data": {
      "text/html": [
       "<pre style=\"white-space:pre;overflow-x:auto;line-height:normal;font-family:Menlo,'DejaVu Sans Mono',consolas,'Courier New',monospace\"><span style=\"font-weight: bold\"> Non-trainable params: </span><span style=\"color: #00af00; text-decoration-color: #00af00\">0</span> (0.00 B)\n",
       "</pre>\n"
      ],
      "text/plain": [
       "\u001b[1m Non-trainable params: \u001b[0m\u001b[38;5;34m0\u001b[0m (0.00 B)\n"
      ]
     },
     "metadata": {},
     "output_type": "display_data"
    }
   ],
   "source": [
    "import tensorflow as tf\n",
    "from tensorflow.keras.models import Sequential\n",
    "from tensorflow.keras.layers import Conv1D, MaxPooling1D, Flatten, Dense, Dropout\n",
    "\n",
    "# Define CNN model\n",
    "model = Sequential([\n",
    "    Conv1D(32, kernel_size=3, activation='relu', input_shape=(window_size, 1)),\n",
    "    MaxPooling1D(pool_size=2),\n",
    "    Conv1D(64, kernel_size=3, activation='relu'),\n",
    "    MaxPooling1D(pool_size=2),\n",
    "    Flatten(),\n",
    "    Dense(128, activation='relu'),\n",
    "    Dropout(0.3),\n",
    "    Dense(1, activation='sigmoid')  # Binary classification\n",
    "])\n",
    "\n",
    "# Compile the model\n",
    "model.compile(optimizer='adam', loss='binary_crossentropy', metrics=['accuracy'])\n",
    "\n",
    "# Print model summary\n",
    "model.summary()\n"
   ]
  },
  {
   "cell_type": "code",
   "execution_count": 8,
   "id": "3d748ece-24e9-40c6-87c2-317f49a85dc7",
   "metadata": {},
   "outputs": [
    {
     "name": "stdout",
     "output_type": "stream",
     "text": [
      "Epoch 1/10\n",
      "\u001b[1m163/163\u001b[0m \u001b[32m━━━━━━━━━━━━━━━━━━━━\u001b[0m\u001b[37m\u001b[0m \u001b[1m3s\u001b[0m 8ms/step - accuracy: 0.4989 - loss: 0.7052 - val_accuracy: 0.5400 - val_loss: 0.6908\n",
      "Epoch 2/10\n",
      "\u001b[1m163/163\u001b[0m \u001b[32m━━━━━━━━━━━━━━━━━━━━\u001b[0m\u001b[37m\u001b[0m \u001b[1m1s\u001b[0m 7ms/step - accuracy: 0.5126 - loss: 0.6919 - val_accuracy: 0.4908 - val_loss: 0.6931\n",
      "Epoch 3/10\n",
      "\u001b[1m163/163\u001b[0m \u001b[32m━━━━━━━━━━━━━━━━━━━━\u001b[0m\u001b[37m\u001b[0m \u001b[1m1s\u001b[0m 7ms/step - accuracy: 0.5109 - loss: 0.6918 - val_accuracy: 0.4738 - val_loss: 0.6954\n",
      "Epoch 4/10\n",
      "\u001b[1m163/163\u001b[0m \u001b[32m━━━━━━━━━━━━━━━━━━━━\u001b[0m\u001b[37m\u001b[0m \u001b[1m1s\u001b[0m 6ms/step - accuracy: 0.5412 - loss: 0.6908 - val_accuracy: 0.5138 - val_loss: 0.6928\n",
      "Epoch 5/10\n",
      "\u001b[1m163/163\u001b[0m \u001b[32m━━━━━━━━━━━━━━━━━━━━\u001b[0m\u001b[37m\u001b[0m \u001b[1m1s\u001b[0m 6ms/step - accuracy: 0.5464 - loss: 0.6880 - val_accuracy: 0.5277 - val_loss: 0.6981\n",
      "Epoch 6/10\n",
      "\u001b[1m163/163\u001b[0m \u001b[32m━━━━━━━━━━━━━━━━━━━━\u001b[0m\u001b[37m\u001b[0m \u001b[1m1s\u001b[0m 7ms/step - accuracy: 0.5626 - loss: 0.6851 - val_accuracy: 0.5077 - val_loss: 0.6976\n",
      "Epoch 7/10\n",
      "\u001b[1m163/163\u001b[0m \u001b[32m━━━━━━━━━━━━━━━━━━━━\u001b[0m\u001b[37m\u001b[0m \u001b[1m1s\u001b[0m 7ms/step - accuracy: 0.5510 - loss: 0.6802 - val_accuracy: 0.5308 - val_loss: 0.6988\n",
      "Epoch 8/10\n",
      "\u001b[1m163/163\u001b[0m \u001b[32m━━━━━━━━━━━━━━━━━━━━\u001b[0m\u001b[37m\u001b[0m \u001b[1m1s\u001b[0m 6ms/step - accuracy: 0.5598 - loss: 0.6766 - val_accuracy: 0.4708 - val_loss: 0.7040\n",
      "Epoch 9/10\n",
      "\u001b[1m163/163\u001b[0m \u001b[32m━━━━━━━━━━━━━━━━━━━━\u001b[0m\u001b[37m\u001b[0m \u001b[1m1s\u001b[0m 7ms/step - accuracy: 0.5781 - loss: 0.6692 - val_accuracy: 0.4738 - val_loss: 0.7092\n",
      "Epoch 10/10\n",
      "\u001b[1m163/163\u001b[0m \u001b[32m━━━━━━━━━━━━━━━━━━━━\u001b[0m\u001b[37m\u001b[0m \u001b[1m1s\u001b[0m 7ms/step - accuracy: 0.6028 - loss: 0.6530 - val_accuracy: 0.5046 - val_loss: 0.7225\n"
     ]
    },
    {
     "data": {
      "text/plain": [
       "<keras.src.callbacks.history.History at 0x2b53a480710>"
      ]
     },
     "execution_count": 8,
     "metadata": {},
     "output_type": "execute_result"
    }
   ],
   "source": [
    "# Train the model\n",
    "model.fit(X_train, y_train, epochs=10, batch_size=16, validation_data=(X_test, y_test))"
   ]
  },
  {
   "cell_type": "markdown",
   "id": "218c9ce7-c79e-4cc7-988f-98ba2c0b5056",
   "metadata": {},
   "source": [
    "### Evaluate"
   ]
  },
  {
   "cell_type": "code",
   "execution_count": 9,
   "id": "c135c747-a92d-40bb-9b10-414600fa2ab7",
   "metadata": {},
   "outputs": [
    {
     "name": "stdout",
     "output_type": "stream",
     "text": [
      "\u001b[1m21/21\u001b[0m \u001b[32m━━━━━━━━━━━━━━━━━━━━\u001b[0m\u001b[37m\u001b[0m \u001b[1m0s\u001b[0m 4ms/step - accuracy: 0.5288 - loss: 0.7112 \n",
      "Test Accuracy: 0.5046153664588928\n"
     ]
    }
   ],
   "source": [
    "# Evaluate the model\n",
    "loss, accuracy = model.evaluate(X_test, y_test)\n",
    "print(\"Test Accuracy:\", accuracy)\n"
   ]
  },
  {
   "cell_type": "code",
   "execution_count": 10,
   "id": "4b80cdac-0fb4-42bf-adcc-d42ec8d88f9a",
   "metadata": {},
   "outputs": [
    {
     "name": "stdout",
     "output_type": "stream",
     "text": [
      "\u001b[1m1/1\u001b[0m \u001b[32m━━━━━━━━━━━━━━━━━━━━\u001b[0m\u001b[37m\u001b[0m \u001b[1m0s\u001b[0m 96ms/step\n",
      "Prediction: Normal\n"
     ]
    }
   ],
   "source": [
    "# Test on a new ECG segment\n",
    "sample_ecg = X_test[0].reshape(1, window_size, 1)\n",
    "prediction = model.predict(sample_ecg)\n",
    "\n",
    "print(\"Prediction:\", \"Arrhythmia\" if prediction > 0.5 else \"Normal\")\n"
   ]
  },
  {
   "cell_type": "markdown",
   "id": "14027023-7e78-4cd7-938e-801c73d021cd",
   "metadata": {},
   "source": [
    "### Build the LSTM Model"
   ]
  },
  {
   "cell_type": "code",
   "execution_count": 12,
   "id": "07eaafa2-aab3-4ea8-922f-6bff907a9fad",
   "metadata": {},
   "outputs": [
    {
     "name": "stderr",
     "output_type": "stream",
     "text": [
      "C:\\Users\\DhvanibenJasoliya\\miniconda3\\Lib\\site-packages\\keras\\src\\layers\\rnn\\rnn.py:200: UserWarning: Do not pass an `input_shape`/`input_dim` argument to a layer. When using Sequential models, prefer using an `Input(shape)` object as the first layer in the model instead.\n",
      "  super().__init__(**kwargs)\n"
     ]
    },
    {
     "data": {
      "text/html": [
       "<pre style=\"white-space:pre;overflow-x:auto;line-height:normal;font-family:Menlo,'DejaVu Sans Mono',consolas,'Courier New',monospace\"><span style=\"font-weight: bold\">Model: \"sequential_1\"</span>\n",
       "</pre>\n"
      ],
      "text/plain": [
       "\u001b[1mModel: \"sequential_1\"\u001b[0m\n"
      ]
     },
     "metadata": {},
     "output_type": "display_data"
    },
    {
     "data": {
      "text/html": [
       "<pre style=\"white-space:pre;overflow-x:auto;line-height:normal;font-family:Menlo,'DejaVu Sans Mono',consolas,'Courier New',monospace\">┏━━━━━━━━━━━━━━━━━━━━━━━━━━━━━━━━━━━━━━┳━━━━━━━━━━━━━━━━━━━━━━━━━━━━━┳━━━━━━━━━━━━━━━━━┓\n",
       "┃<span style=\"font-weight: bold\"> Layer (type)                         </span>┃<span style=\"font-weight: bold\"> Output Shape                </span>┃<span style=\"font-weight: bold\">         Param # </span>┃\n",
       "┡━━━━━━━━━━━━━━━━━━━━━━━━━━━━━━━━━━━━━━╇━━━━━━━━━━━━━━━━━━━━━━━━━━━━━╇━━━━━━━━━━━━━━━━━┩\n",
       "│ lstm (<span style=\"color: #0087ff; text-decoration-color: #0087ff\">LSTM</span>)                          │ (<span style=\"color: #00d7ff; text-decoration-color: #00d7ff\">None</span>, <span style=\"color: #00af00; text-decoration-color: #00af00\">200</span>, <span style=\"color: #00af00; text-decoration-color: #00af00\">64</span>)             │          <span style=\"color: #00af00; text-decoration-color: #00af00\">16,896</span> │\n",
       "├──────────────────────────────────────┼─────────────────────────────┼─────────────────┤\n",
       "│ lstm_1 (<span style=\"color: #0087ff; text-decoration-color: #0087ff\">LSTM</span>)                        │ (<span style=\"color: #00d7ff; text-decoration-color: #00d7ff\">None</span>, <span style=\"color: #00af00; text-decoration-color: #00af00\">64</span>)                  │          <span style=\"color: #00af00; text-decoration-color: #00af00\">33,024</span> │\n",
       "├──────────────────────────────────────┼─────────────────────────────┼─────────────────┤\n",
       "│ dropout_1 (<span style=\"color: #0087ff; text-decoration-color: #0087ff\">Dropout</span>)                  │ (<span style=\"color: #00d7ff; text-decoration-color: #00d7ff\">None</span>, <span style=\"color: #00af00; text-decoration-color: #00af00\">64</span>)                  │               <span style=\"color: #00af00; text-decoration-color: #00af00\">0</span> │\n",
       "├──────────────────────────────────────┼─────────────────────────────┼─────────────────┤\n",
       "│ dense_2 (<span style=\"color: #0087ff; text-decoration-color: #0087ff\">Dense</span>)                      │ (<span style=\"color: #00d7ff; text-decoration-color: #00d7ff\">None</span>, <span style=\"color: #00af00; text-decoration-color: #00af00\">128</span>)                 │           <span style=\"color: #00af00; text-decoration-color: #00af00\">8,320</span> │\n",
       "├──────────────────────────────────────┼─────────────────────────────┼─────────────────┤\n",
       "│ dropout_2 (<span style=\"color: #0087ff; text-decoration-color: #0087ff\">Dropout</span>)                  │ (<span style=\"color: #00d7ff; text-decoration-color: #00d7ff\">None</span>, <span style=\"color: #00af00; text-decoration-color: #00af00\">128</span>)                 │               <span style=\"color: #00af00; text-decoration-color: #00af00\">0</span> │\n",
       "├──────────────────────────────────────┼─────────────────────────────┼─────────────────┤\n",
       "│ dense_3 (<span style=\"color: #0087ff; text-decoration-color: #0087ff\">Dense</span>)                      │ (<span style=\"color: #00d7ff; text-decoration-color: #00d7ff\">None</span>, <span style=\"color: #00af00; text-decoration-color: #00af00\">1</span>)                   │             <span style=\"color: #00af00; text-decoration-color: #00af00\">129</span> │\n",
       "└──────────────────────────────────────┴─────────────────────────────┴─────────────────┘\n",
       "</pre>\n"
      ],
      "text/plain": [
       "┏━━━━━━━━━━━━━━━━━━━━━━━━━━━━━━━━━━━━━━┳━━━━━━━━━━━━━━━━━━━━━━━━━━━━━┳━━━━━━━━━━━━━━━━━┓\n",
       "┃\u001b[1m \u001b[0m\u001b[1mLayer (type)                        \u001b[0m\u001b[1m \u001b[0m┃\u001b[1m \u001b[0m\u001b[1mOutput Shape               \u001b[0m\u001b[1m \u001b[0m┃\u001b[1m \u001b[0m\u001b[1m        Param #\u001b[0m\u001b[1m \u001b[0m┃\n",
       "┡━━━━━━━━━━━━━━━━━━━━━━━━━━━━━━━━━━━━━━╇━━━━━━━━━━━━━━━━━━━━━━━━━━━━━╇━━━━━━━━━━━━━━━━━┩\n",
       "│ lstm (\u001b[38;5;33mLSTM\u001b[0m)                          │ (\u001b[38;5;45mNone\u001b[0m, \u001b[38;5;34m200\u001b[0m, \u001b[38;5;34m64\u001b[0m)             │          \u001b[38;5;34m16,896\u001b[0m │\n",
       "├──────────────────────────────────────┼─────────────────────────────┼─────────────────┤\n",
       "│ lstm_1 (\u001b[38;5;33mLSTM\u001b[0m)                        │ (\u001b[38;5;45mNone\u001b[0m, \u001b[38;5;34m64\u001b[0m)                  │          \u001b[38;5;34m33,024\u001b[0m │\n",
       "├──────────────────────────────────────┼─────────────────────────────┼─────────────────┤\n",
       "│ dropout_1 (\u001b[38;5;33mDropout\u001b[0m)                  │ (\u001b[38;5;45mNone\u001b[0m, \u001b[38;5;34m64\u001b[0m)                  │               \u001b[38;5;34m0\u001b[0m │\n",
       "├──────────────────────────────────────┼─────────────────────────────┼─────────────────┤\n",
       "│ dense_2 (\u001b[38;5;33mDense\u001b[0m)                      │ (\u001b[38;5;45mNone\u001b[0m, \u001b[38;5;34m128\u001b[0m)                 │           \u001b[38;5;34m8,320\u001b[0m │\n",
       "├──────────────────────────────────────┼─────────────────────────────┼─────────────────┤\n",
       "│ dropout_2 (\u001b[38;5;33mDropout\u001b[0m)                  │ (\u001b[38;5;45mNone\u001b[0m, \u001b[38;5;34m128\u001b[0m)                 │               \u001b[38;5;34m0\u001b[0m │\n",
       "├──────────────────────────────────────┼─────────────────────────────┼─────────────────┤\n",
       "│ dense_3 (\u001b[38;5;33mDense\u001b[0m)                      │ (\u001b[38;5;45mNone\u001b[0m, \u001b[38;5;34m1\u001b[0m)                   │             \u001b[38;5;34m129\u001b[0m │\n",
       "└──────────────────────────────────────┴─────────────────────────────┴─────────────────┘\n"
      ]
     },
     "metadata": {},
     "output_type": "display_data"
    },
    {
     "data": {
      "text/html": [
       "<pre style=\"white-space:pre;overflow-x:auto;line-height:normal;font-family:Menlo,'DejaVu Sans Mono',consolas,'Courier New',monospace\"><span style=\"font-weight: bold\"> Total params: </span><span style=\"color: #00af00; text-decoration-color: #00af00\">58,369</span> (228.00 KB)\n",
       "</pre>\n"
      ],
      "text/plain": [
       "\u001b[1m Total params: \u001b[0m\u001b[38;5;34m58,369\u001b[0m (228.00 KB)\n"
      ]
     },
     "metadata": {},
     "output_type": "display_data"
    },
    {
     "data": {
      "text/html": [
       "<pre style=\"white-space:pre;overflow-x:auto;line-height:normal;font-family:Menlo,'DejaVu Sans Mono',consolas,'Courier New',monospace\"><span style=\"font-weight: bold\"> Trainable params: </span><span style=\"color: #00af00; text-decoration-color: #00af00\">58,369</span> (228.00 KB)\n",
       "</pre>\n"
      ],
      "text/plain": [
       "\u001b[1m Trainable params: \u001b[0m\u001b[38;5;34m58,369\u001b[0m (228.00 KB)\n"
      ]
     },
     "metadata": {},
     "output_type": "display_data"
    },
    {
     "data": {
      "text/html": [
       "<pre style=\"white-space:pre;overflow-x:auto;line-height:normal;font-family:Menlo,'DejaVu Sans Mono',consolas,'Courier New',monospace\"><span style=\"font-weight: bold\"> Non-trainable params: </span><span style=\"color: #00af00; text-decoration-color: #00af00\">0</span> (0.00 B)\n",
       "</pre>\n"
      ],
      "text/plain": [
       "\u001b[1m Non-trainable params: \u001b[0m\u001b[38;5;34m0\u001b[0m (0.00 B)\n"
      ]
     },
     "metadata": {},
     "output_type": "display_data"
    }
   ],
   "source": [
    "import tensorflow as tf\n",
    "from tensorflow.keras.models import Sequential\n",
    "from tensorflow.keras.layers import LSTM, Dense, Dropout\n",
    "\n",
    "# Define LSTM model\n",
    "model = Sequential([\n",
    "    LSTM(64, return_sequences=True, input_shape=(window_size, 1)),  \n",
    "    LSTM(64),  # Second LSTM layer\n",
    "    Dropout(0.3),\n",
    "    Dense(128, activation='relu'),\n",
    "    Dropout(0.3),\n",
    "    Dense(1, activation='sigmoid')  # Binary classification\n",
    "])\n",
    "\n",
    "# Compile the model\n",
    "model.compile(optimizer='adam', loss='binary_crossentropy', metrics=['accuracy'])\n",
    "\n",
    "# Print model summary\n",
    "model.summary()\n"
   ]
  },
  {
   "cell_type": "code",
   "execution_count": 13,
   "id": "bdf44a3a-0829-422d-9fc6-fae7d3de1459",
   "metadata": {},
   "outputs": [
    {
     "name": "stdout",
     "output_type": "stream",
     "text": [
      "Epoch 1/10\n",
      "\u001b[1m163/163\u001b[0m \u001b[32m━━━━━━━━━━━━━━━━━━━━\u001b[0m\u001b[37m\u001b[0m \u001b[1m15s\u001b[0m 74ms/step - accuracy: 0.4978 - loss: 0.6946 - val_accuracy: 0.4723 - val_loss: 0.7098\n",
      "Epoch 2/10\n",
      "\u001b[1m163/163\u001b[0m \u001b[32m━━━━━━━━━━━━━━━━━━━━\u001b[0m\u001b[37m\u001b[0m \u001b[1m13s\u001b[0m 81ms/step - accuracy: 0.4895 - loss: 0.6965 - val_accuracy: 0.4969 - val_loss: 0.6923\n",
      "Epoch 3/10\n",
      "\u001b[1m163/163\u001b[0m \u001b[32m━━━━━━━━━━━━━━━━━━━━\u001b[0m\u001b[37m\u001b[0m \u001b[1m11s\u001b[0m 70ms/step - accuracy: 0.5102 - loss: 0.6937 - val_accuracy: 0.5000 - val_loss: 0.6925\n",
      "Epoch 4/10\n",
      "\u001b[1m163/163\u001b[0m \u001b[32m━━━━━━━━━━━━━━━━━━━━\u001b[0m\u001b[37m\u001b[0m \u001b[1m12s\u001b[0m 76ms/step - accuracy: 0.4939 - loss: 0.6931 - val_accuracy: 0.4785 - val_loss: 0.6937\n",
      "Epoch 5/10\n",
      "\u001b[1m163/163\u001b[0m \u001b[32m━━━━━━━━━━━━━━━━━━━━\u001b[0m\u001b[37m\u001b[0m \u001b[1m17s\u001b[0m 105ms/step - accuracy: 0.4878 - loss: 0.6941 - val_accuracy: 0.4646 - val_loss: 0.6942\n",
      "Epoch 6/10\n",
      "\u001b[1m163/163\u001b[0m \u001b[32m━━━━━━━━━━━━━━━━━━━━\u001b[0m\u001b[37m\u001b[0m \u001b[1m15s\u001b[0m 90ms/step - accuracy: 0.5070 - loss: 0.6941 - val_accuracy: 0.5354 - val_loss: 0.6913\n",
      "Epoch 7/10\n",
      "\u001b[1m163/163\u001b[0m \u001b[32m━━━━━━━━━━━━━━━━━━━━\u001b[0m\u001b[37m\u001b[0m \u001b[1m16s\u001b[0m 100ms/step - accuracy: 0.5076 - loss: 0.6934 - val_accuracy: 0.5277 - val_loss: 0.6922\n",
      "Epoch 8/10\n",
      "\u001b[1m163/163\u001b[0m \u001b[32m━━━━━━━━━━━━━━━━━━━━\u001b[0m\u001b[37m\u001b[0m \u001b[1m13s\u001b[0m 78ms/step - accuracy: 0.4662 - loss: 0.6941 - val_accuracy: 0.5277 - val_loss: 0.6925\n",
      "Epoch 9/10\n",
      "\u001b[1m163/163\u001b[0m \u001b[32m━━━━━━━━━━━━━━━━━━━━\u001b[0m\u001b[37m\u001b[0m \u001b[1m12s\u001b[0m 72ms/step - accuracy: 0.4928 - loss: 0.6936 - val_accuracy: 0.5231 - val_loss: 0.6925\n",
      "Epoch 10/10\n",
      "\u001b[1m163/163\u001b[0m \u001b[32m━━━━━━━━━━━━━━━━━━━━\u001b[0m\u001b[37m\u001b[0m \u001b[1m12s\u001b[0m 73ms/step - accuracy: 0.4840 - loss: 0.6943 - val_accuracy: 0.5323 - val_loss: 0.6919\n"
     ]
    },
    {
     "data": {
      "text/plain": [
       "<keras.src.callbacks.history.History at 0x2b53fecc710>"
      ]
     },
     "execution_count": 13,
     "metadata": {},
     "output_type": "execute_result"
    }
   ],
   "source": [
    "# Train the LSTM model\n",
    "model.fit(X_train, y_train, epochs=10, batch_size=16, validation_data=(X_test, y_test))\n"
   ]
  },
  {
   "cell_type": "code",
   "execution_count": 14,
   "id": "54f99f04-d172-423f-b747-40c1e4fca0bc",
   "metadata": {},
   "outputs": [
    {
     "name": "stdout",
     "output_type": "stream",
     "text": [
      "\u001b[1m21/21\u001b[0m \u001b[32m━━━━━━━━━━━━━━━━━━━━\u001b[0m\u001b[37m\u001b[0m \u001b[1m1s\u001b[0m 27ms/step - accuracy: 0.5498 - loss: 0.6922\n",
      "Test Accuracy: 0.5323076844215393\n"
     ]
    }
   ],
   "source": [
    "# Evaluate model performance\n",
    "loss, accuracy = model.evaluate(X_test, y_test)\n",
    "print(\"Test Accuracy:\", accuracy)\n"
   ]
  },
  {
   "cell_type": "code",
   "execution_count": 15,
   "id": "c442bd34-10a1-4d0a-abef-251672ab9179",
   "metadata": {},
   "outputs": [
    {
     "name": "stdout",
     "output_type": "stream",
     "text": [
      "\u001b[1m1/1\u001b[0m \u001b[32m━━━━━━━━━━━━━━━━━━━━\u001b[0m\u001b[37m\u001b[0m \u001b[1m0s\u001b[0m 342ms/step\n",
      "Prediction: Normal\n"
     ]
    }
   ],
   "source": [
    "# Test on a new ECG segment\n",
    "sample_ecg = X_test[0].reshape(1, window_size, 1)\n",
    "prediction = model.predict(sample_ecg)\n",
    "\n",
    "print(\"Prediction:\", \"Arrhythmia\" if prediction > 0.5 else \"Normal\")\n"
   ]
  },
  {
   "cell_type": "code",
   "execution_count": 16,
   "id": "13e78692-10ef-4a3b-a534-b2a3aed13c93",
   "metadata": {},
   "outputs": [
    {
     "name": "stdout",
     "output_type": "stream",
     "text": [
      "Requirement already satisfied: tensorboard in c:\\users\\dhvanibenjasoliya\\miniconda3\\lib\\site-packages (2.18.0)\n",
      "Requirement already satisfied: absl-py>=0.4 in c:\\users\\dhvanibenjasoliya\\miniconda3\\lib\\site-packages (from tensorboard) (2.1.0)\n",
      "Requirement already satisfied: grpcio>=1.48.2 in c:\\users\\dhvanibenjasoliya\\miniconda3\\lib\\site-packages (from tensorboard) (1.70.0)\n",
      "Requirement already satisfied: markdown>=2.6.8 in c:\\users\\dhvanibenjasoliya\\miniconda3\\lib\\site-packages (from tensorboard) (3.7)\n",
      "Requirement already satisfied: numpy>=1.12.0 in c:\\users\\dhvanibenjasoliya\\miniconda3\\lib\\site-packages (from tensorboard) (2.0.2)\n",
      "Requirement already satisfied: packaging in c:\\users\\dhvanibenjasoliya\\miniconda3\\lib\\site-packages (from tensorboard) (24.1)\n",
      "Requirement already satisfied: protobuf!=4.24.0,>=3.19.6 in c:\\users\\dhvanibenjasoliya\\miniconda3\\lib\\site-packages (from tensorboard) (5.29.3)\n",
      "Requirement already satisfied: setuptools>=41.0.0 in c:\\users\\dhvanibenjasoliya\\miniconda3\\lib\\site-packages (from tensorboard) (75.1.0)\n",
      "Requirement already satisfied: six>1.9 in c:\\users\\dhvanibenjasoliya\\miniconda3\\lib\\site-packages (from tensorboard) (1.17.0)\n",
      "Requirement already satisfied: tensorboard-data-server<0.8.0,>=0.7.0 in c:\\users\\dhvanibenjasoliya\\miniconda3\\lib\\site-packages (from tensorboard) (0.7.2)\n",
      "Requirement already satisfied: werkzeug>=1.0.1 in c:\\users\\dhvanibenjasoliya\\miniconda3\\lib\\site-packages (from tensorboard) (3.1.3)\n",
      "Requirement already satisfied: MarkupSafe>=2.1.1 in c:\\users\\dhvanibenjasoliya\\miniconda3\\lib\\site-packages (from werkzeug>=1.0.1->tensorboard) (3.0.2)\n"
     ]
    }
   ],
   "source": [
    "!pip install tensorboard"
   ]
  },
  {
   "cell_type": "markdown",
   "id": "de771bf4-8d24-4832-af0f-616c06f94c85",
   "metadata": {},
   "source": [
    "### TensorBoard Logging in CNN Model"
   ]
  },
  {
   "cell_type": "code",
   "execution_count": 17,
   "id": "6c925322-b17a-4f09-89a5-641f2b2fbdc2",
   "metadata": {},
   "outputs": [
    {
     "name": "stdout",
     "output_type": "stream",
     "text": [
      "Epoch 1/10\n",
      "\u001b[1m163/163\u001b[0m \u001b[32m━━━━━━━━━━━━━━━━━━━━\u001b[0m\u001b[37m\u001b[0m \u001b[1m12s\u001b[0m 74ms/step - accuracy: 0.5116 - loss: 0.6931 - val_accuracy: 0.5323 - val_loss: 0.6920\n",
      "Epoch 2/10\n",
      "\u001b[1m163/163\u001b[0m \u001b[32m━━━━━━━━━━━━━━━━━━━━\u001b[0m\u001b[37m\u001b[0m \u001b[1m12s\u001b[0m 72ms/step - accuracy: 0.5056 - loss: 0.6932 - val_accuracy: 0.5292 - val_loss: 0.6920\n",
      "Epoch 3/10\n",
      "\u001b[1m163/163\u001b[0m \u001b[32m━━━━━━━━━━━━━━━━━━━━\u001b[0m\u001b[37m\u001b[0m \u001b[1m13s\u001b[0m 79ms/step - accuracy: 0.4881 - loss: 0.6928 - val_accuracy: 0.5000 - val_loss: 0.6927\n",
      "Epoch 4/10\n",
      "\u001b[1m163/163\u001b[0m \u001b[32m━━━━━━━━━━━━━━━━━━━━\u001b[0m\u001b[37m\u001b[0m \u001b[1m13s\u001b[0m 77ms/step - accuracy: 0.5068 - loss: 0.6929 - val_accuracy: 0.5092 - val_loss: 0.6925\n",
      "Epoch 5/10\n",
      "\u001b[1m163/163\u001b[0m \u001b[32m━━━━━━━━━━━━━━━━━━━━\u001b[0m\u001b[37m\u001b[0m \u001b[1m12s\u001b[0m 73ms/step - accuracy: 0.5123 - loss: 0.6930 - val_accuracy: 0.5323 - val_loss: 0.6909\n",
      "Epoch 6/10\n",
      "\u001b[1m163/163\u001b[0m \u001b[32m━━━━━━━━━━━━━━━━━━━━\u001b[0m\u001b[37m\u001b[0m \u001b[1m12s\u001b[0m 75ms/step - accuracy: 0.5144 - loss: 0.6927 - val_accuracy: 0.5031 - val_loss: 0.6928\n",
      "Epoch 7/10\n",
      "\u001b[1m163/163\u001b[0m \u001b[32m━━━━━━━━━━━━━━━━━━━━\u001b[0m\u001b[37m\u001b[0m \u001b[1m12s\u001b[0m 73ms/step - accuracy: 0.5014 - loss: 0.6929 - val_accuracy: 0.5338 - val_loss: 0.6921\n",
      "Epoch 8/10\n",
      "\u001b[1m163/163\u001b[0m \u001b[32m━━━━━━━━━━━━━━━━━━━━\u001b[0m\u001b[37m\u001b[0m \u001b[1m14s\u001b[0m 83ms/step - accuracy: 0.5155 - loss: 0.6928 - val_accuracy: 0.5323 - val_loss: 0.6919\n",
      "Epoch 9/10\n",
      "\u001b[1m163/163\u001b[0m \u001b[32m━━━━━━━━━━━━━━━━━━━━\u001b[0m\u001b[37m\u001b[0m \u001b[1m14s\u001b[0m 84ms/step - accuracy: 0.5061 - loss: 0.6927 - val_accuracy: 0.5231 - val_loss: 0.6922\n",
      "Epoch 10/10\n",
      "\u001b[1m163/163\u001b[0m \u001b[32m━━━━━━━━━━━━━━━━━━━━\u001b[0m\u001b[37m\u001b[0m \u001b[1m12s\u001b[0m 74ms/step - accuracy: 0.5082 - loss: 0.6927 - val_accuracy: 0.5292 - val_loss: 0.6914\n"
     ]
    },
    {
     "data": {
      "text/plain": [
       "<keras.src.callbacks.history.History at 0x2b53ae502c0>"
      ]
     },
     "execution_count": 17,
     "metadata": {},
     "output_type": "execute_result"
    }
   ],
   "source": [
    "import tensorflow as tf\n",
    "from tensorflow.keras.callbacks import TensorBoard\n",
    "import datetime\n",
    "\n",
    "# Define TensorBoard log directory\n",
    "cnn_log_dir = \"logs/cnn_\" + datetime.datetime.now().strftime(\"%Y%m%d-%H%M%S\")\n",
    "cnn_tensorboard_callback = TensorBoard(log_dir=cnn_log_dir, histogram_freq=1)\n",
    "\n",
    "# Train the CNN model with TensorBoard logging\n",
    "model.fit(\n",
    "    X_train, y_train,\n",
    "    epochs=10, batch_size=16,\n",
    "    validation_data=(X_test, y_test),\n",
    "    callbacks=[cnn_tensorboard_callback]\n",
    ")"
   ]
  },
  {
   "cell_type": "markdown",
   "id": "e836cef2-f06a-42fd-a656-74729711d182",
   "metadata": {},
   "source": [
    "### TensorBoard Logging in LSTM Model"
   ]
  },
  {
   "cell_type": "code",
   "execution_count": 19,
   "id": "294fdf53-0547-4ff2-94e5-e74f67d8f063",
   "metadata": {},
   "outputs": [
    {
     "name": "stdout",
     "output_type": "stream",
     "text": [
      "Epoch 1/5\n",
      "\u001b[1m163/163\u001b[0m \u001b[32m━━━━━━━━━━━━━━━━━━━━\u001b[0m\u001b[37m\u001b[0m \u001b[1m12s\u001b[0m 72ms/step - accuracy: 0.5107 - loss: 0.6929 - val_accuracy: 0.5215 - val_loss: 0.6924\n",
      "Epoch 2/5\n",
      "\u001b[1m163/163\u001b[0m \u001b[32m━━━━━━━━━━━━━━━━━━━━\u001b[0m\u001b[37m\u001b[0m \u001b[1m13s\u001b[0m 77ms/step - accuracy: 0.4983 - loss: 0.6924 - val_accuracy: 0.5262 - val_loss: 0.6922\n",
      "Epoch 3/5\n",
      "\u001b[1m163/163\u001b[0m \u001b[32m━━━━━━━━━━━━━━━━━━━━\u001b[0m\u001b[37m\u001b[0m \u001b[1m12s\u001b[0m 74ms/step - accuracy: 0.5171 - loss: 0.6927 - val_accuracy: 0.5338 - val_loss: 0.6917\n",
      "Epoch 4/5\n",
      "\u001b[1m163/163\u001b[0m \u001b[32m━━━━━━━━━━━━━━━━━━━━\u001b[0m\u001b[37m\u001b[0m \u001b[1m12s\u001b[0m 72ms/step - accuracy: 0.5154 - loss: 0.6928 - val_accuracy: 0.5092 - val_loss: 0.6926\n",
      "Epoch 5/5\n",
      "\u001b[1m163/163\u001b[0m \u001b[32m━━━━━━━━━━━━━━━━━━━━\u001b[0m\u001b[37m\u001b[0m \u001b[1m11s\u001b[0m 69ms/step - accuracy: 0.4980 - loss: 0.6930 - val_accuracy: 0.4938 - val_loss: 0.6925\n"
     ]
    },
    {
     "data": {
      "text/plain": [
       "<keras.src.callbacks.history.History at 0x2b546eadc10>"
      ]
     },
     "execution_count": 19,
     "metadata": {},
     "output_type": "execute_result"
    }
   ],
   "source": [
    "# Define TensorBoard log directory for LSTM\n",
    "lstm_log_dir = \"logs/lstm_\" + datetime.datetime.now().strftime(\"%Y%m%d-%H%M%S\")\n",
    "lstm_tensorboard_callback = TensorBoard(log_dir=lstm_log_dir, histogram_freq=1)\n",
    "#\n",
    "# Train the LSTM model with TensorBoard logging\n",
    "model.fit(\n",
    "    X_train, y_train,\n",
    "    epochs=5, batch_size=16,\n",
    "    validation_data=(X_test, y_test),\n",
    "    callbacks=[lstm_tensorboard_callback]\n",
    ")"
   ]
  },
  {
   "cell_type": "code",
   "execution_count": 22,
   "id": "2f13fa7f-0700-4beb-8842-63a43c3c88af",
   "metadata": {},
   "outputs": [
    {
     "data": {
      "text/html": [
       "\n",
       "      <iframe id=\"tensorboard-frame-eee2a6899e1315c7\" width=\"100%\" height=\"800\" frameborder=\"0\">\n",
       "      </iframe>\n",
       "      <script>\n",
       "        (function() {\n",
       "          const frame = document.getElementById(\"tensorboard-frame-eee2a6899e1315c7\");\n",
       "          const url = new URL(\"/\", window.location);\n",
       "          const port = 6006;\n",
       "          if (port) {\n",
       "            url.port = port;\n",
       "          }\n",
       "          frame.src = url;\n",
       "        })();\n",
       "      </script>\n",
       "    "
      ],
      "text/plain": [
       "<IPython.core.display.HTML object>"
      ]
     },
     "metadata": {},
     "output_type": "display_data"
    }
   ],
   "source": [
    "%load_ext tensorboard\n",
    "%tensorboard --logdir logs\n"
   ]
  },
  {
   "cell_type": "code",
   "execution_count": null,
   "id": "3e98ef73-a239-4dfb-80e6-84c4e687a55d",
   "metadata": {},
   "outputs": [],
   "source": []
  },
  {
   "cell_type": "code",
   "execution_count": null,
   "id": "4599243c-8ecf-4c4c-99a2-581740738871",
   "metadata": {},
   "outputs": [],
   "source": []
  }
 ],
 "metadata": {
  "kernelspec": {
   "display_name": "Python 3 (ipykernel)",
   "language": "python",
   "name": "python3"
  },
  "language_info": {
   "codemirror_mode": {
    "name": "ipython",
    "version": 3
   },
   "file_extension": ".py",
   "mimetype": "text/x-python",
   "name": "python",
   "nbconvert_exporter": "python",
   "pygments_lexer": "ipython3",
   "version": "3.12.7"
  }
 },
 "nbformat": 4,
 "nbformat_minor": 5
}
